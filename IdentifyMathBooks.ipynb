{
 "cells": [
  {
   "cell_type": "code",
   "execution_count": 2,
   "id": "d5c2bea2-8f94-46c5-843d-9e304f829674",
   "metadata": {},
   "outputs": [],
   "source": [
    "# In my experience, many librarians are skeptical about AI tools.\n",
    "# In many cases, I agree with this skepticism, but I do think there\n",
    "# some good use cases. This is one simple example. Given a spreadsheet\n",
    "# of books, it tries to guess whether each book is in a particular\n",
    "# subject area or not (in this case, mathematics, statistics, or data\n",
    "# science) based on the title. It is, of course, not perfect, but\n",
    "# could be a great tool for a list which is too large to be worth\n",
    "# the trouble for human review. In particular, this takes about a\n",
    "# minute per 100 books, and this fast speed could be worth decreased\n",
    "# accuracy if it means the classification gets done at all rather\n",
    "# than not at all. One could also experiment with different models\n",
    "# and different setups to get better results.\n",
    "import pandas as pd\n",
    "from transformers import pipeline\n",
    "import time"
   ]
  },
  {
   "cell_type": "code",
   "execution_count": 7,
   "id": "9fd48b35-f55c-402a-97b9-18c51ce95acc",
   "metadata": {},
   "outputs": [],
   "source": [
    "df = pd.read_excel('AMSBooks.xlsx')\n",
    "titles = df['Title'].tolist()"
   ]
  },
  {
   "cell_type": "code",
   "execution_count": 4,
   "id": "715b3180-2c6c-402b-b789-a9226848dd7f",
   "metadata": {},
   "outputs": [],
   "source": [
    "classifier = pipeline('zero-shot-classification', model='facebook/bart-large-mnli')\n",
    "labels = [\"mathematics\", \"statistics\", \"data science\"]"
   ]
  },
  {
   "cell_type": "code",
   "execution_count": 13,
   "id": "f53374a9-ad67-4a41-9f83-1ae48ec854b1",
   "metadata": {},
   "outputs": [
    {
     "name": "stdout",
     "output_type": "stream",
     "text": [
      "Estimated total run time: 9.94 minutes for 1285 titles\n"
     ]
    }
   ],
   "source": [
    "start_time = time.time()\n",
    "sample_size = 10  # Adjust sample size for a quick test\n",
    "for title in titles[:sample_size]:\n",
    "    for label in labels:\n",
    "        result = classifier(title, candidate_labels=[label])\n",
    "end_time = time.time()\n",
    "\n",
    "# Timing estimate\n",
    "total_time = end_time - start_time\n",
    "average_time_per_title = total_time / sample_size\n",
    "estimated_total_time = average_time_per_title * len(titles)\n",
    "\n",
    "print(f\"Estimated total run time: {estimated_total_time / 60:.2f} minutes for {len(titles)} titles\")"
   ]
  },
  {
   "cell_type": "code",
   "execution_count": 14,
   "id": "7fca4e8c-2656-42de-b388-a995b9517e05",
   "metadata": {},
   "outputs": [],
   "source": [
    "for label in labels:\n",
    "    df[f'{label} Score'] = 0.0\n",
    "for i, title in enumerate(titles):\n",
    "    for label in labels:\n",
    "        result = classifier(title, candidate_labels=[label])\n",
    "        df.at[i, f'{label} Score'] = result['scores'][0]"
   ]
  },
  {
   "cell_type": "code",
   "execution_count": 15,
   "id": "58c37cae-6b19-4591-8934-2be28b475df5",
   "metadata": {},
   "outputs": [],
   "source": [
    "df.to_excel('classified_books.xlsx', index=False)"
   ]
  }
 ],
 "metadata": {
  "kernelspec": {
   "display_name": "Python 3 (ipykernel)",
   "language": "python",
   "name": "python3"
  },
  "language_info": {
   "codemirror_mode": {
    "name": "ipython",
    "version": 3
   },
   "file_extension": ".py",
   "mimetype": "text/x-python",
   "name": "python",
   "nbconvert_exporter": "python",
   "pygments_lexer": "ipython3",
   "version": "3.12.3"
  }
 },
 "nbformat": 4,
 "nbformat_minor": 5
}
